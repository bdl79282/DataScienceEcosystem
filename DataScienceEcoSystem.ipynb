{
 "cells": [
  {
   "cell_type": "markdown",
   "id": "f4ce1bc2-8dd3-48d5-8272-686d1136d9da",
   "metadata": {},
   "source": [
    "# Data Science Tools and Ecosystem"
   ]
  },
  {
   "cell_type": "markdown",
   "id": "0b024a7d-a5d7-4eef-bc72-5982cba1c65e",
   "metadata": {
    "tags": []
   },
   "source": [
    "## In this notebook, Data Science Tools and Ecosystem are summarized."
   ]
  },
  {
   "cell_type": "markdown",
   "id": "73b5c449-c350-4ea9-ae3a-971a461b2d89",
   "metadata": {
    "tags": []
   },
   "source": [
    "## __objectives__\n",
    "- List popular data science tools\n",
    "- Familiarize yourself with programming languages\n",
    "- Start your first Jupyter Notebbok\n",
    "- Start your first RStudio script\n",
    "- Navigate GitHub"
   ]
  },
  {
   "cell_type": "markdown",
   "id": "9534e2dd-f7b3-4e0d-8afa-97bc04455ee3",
   "metadata": {},
   "source": [
    "### Some of the popular languages that Data Scientists use are:\n",
    "1. Python\n",
    "2. Julia\n",
    "3. R\n",
    "4. C++\n",
    "5. Java\n",
    "6. Javascript\n"
   ]
  },
  {
   "cell_type": "markdown",
   "id": "b19078fb-63f2-44a4-88e9-bcbda651dc66",
   "metadata": {},
   "source": [
    "### Some of the commonly used libraries by data scientists are:\n",
    "1. ggplot\n",
    "2. Numpy\n",
    "3. Pandas\n",
    "4. Lattice\n",
    "5. Matplotlib"
   ]
  },
  {
   "cell_type": "markdown",
   "id": "d297b0c5-19ac-4c96-9fb0-9cd049b5c4c8",
   "metadata": {
    "tags": []
   },
   "source": [
    "| Data Science Tools | \n",
    "| :------------------: |\n",
    "| GitHub |\n",
    "| Hadoop |\n",
    "| Caffe |"
   ]
  },
  {
   "cell_type": "markdown",
   "id": "67136f8d-b2de-4dba-82ba-fb4773599a32",
   "metadata": {},
   "source": [
    "### Below are a few examples of evaluating arithmetic expressions in Python."
   ]
  },
  {
   "cell_type": "code",
   "execution_count": 39,
   "id": "7ebf5921-b95f-4062-b8b5-d17e737737c3",
   "metadata": {
    "tags": []
   },
   "outputs": [
    {
     "data": {
      "text/plain": [
       "17"
      ]
     },
     "execution_count": 39,
     "metadata": {},
     "output_type": "execute_result"
    }
   ],
   "source": [
    "# This is a simple arithmetic expression to multiply then add integers\n",
    "(3*4)+5"
   ]
  },
  {
   "cell_type": "code",
   "execution_count": 40,
   "id": "50e71d5c-1319-4fb4-8729-67d8fff206f5",
   "metadata": {
    "tags": []
   },
   "outputs": [
    {
     "data": {
      "text/plain": [
       "3.3333333333333335"
      ]
     },
     "execution_count": 40,
     "metadata": {},
     "output_type": "execute_result"
    }
   ],
   "source": [
    "# This will convert 200 minutes to hour y dividing by 60.\n",
    "200/60"
   ]
  },
  {
   "cell_type": "markdown",
   "id": "2219d651-1db4-454a-9f99-306557fc2929",
   "metadata": {},
   "source": [
    "## Author\n",
    "Brandon Lauro\n"
   ]
  },
  {
   "cell_type": "code",
   "execution_count": null,
   "id": "9ea596b6-edd3-4190-8666-65c2085d01dc",
   "metadata": {},
   "outputs": [],
   "source": []
  }
 ],
 "metadata": {
  "kernelspec": {
   "display_name": "Python 3 (ipykernel)",
   "language": "python",
   "name": "python3"
  },
  "language_info": {
   "codemirror_mode": {
    "name": "ipython",
    "version": 3
   },
   "file_extension": ".py",
   "mimetype": "text/x-python",
   "name": "python",
   "nbconvert_exporter": "python",
   "pygments_lexer": "ipython3",
   "version": "3.11.7"
  }
 },
 "nbformat": 4,
 "nbformat_minor": 5
}
